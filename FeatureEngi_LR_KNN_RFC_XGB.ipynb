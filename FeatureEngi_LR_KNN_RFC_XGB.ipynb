{
 "cells": [
  {
   "cell_type": "code",
   "execution_count": 1,
   "metadata": {},
   "outputs": [],
   "source": [
    "import pandas as pd\n",
    "import numpy as np\n",
    "import matplotlib.pyplot as plt\n",
    "import seaborn as sns\n",
    "from sklearn import preprocessing\n",
    "from sklearn.preprocessing import LabelEncoder\n",
    "from sklearn.utils import resample\n",
    "from xgboost import XGBClassifier\n",
    "from sklearn.metrics import roc_auc_score,precision_recall_curve,roc_curve\n",
    "from sklearn.model_selection import train_test_split\n",
    "from sklearn.linear_model import LogisticRegression\n",
    "from sklearn.manifold import TSNE\n",
    "from sklearn.decomposition import PCA, TruncatedSVD\n",
    "import time\n",
    "import matplotlib.patches as mpatches\n",
    "from sklearn.metrics import confusion_matrix\n",
    "from sklearn.preprocessing import StandardScaler\n",
    "from sklearn.impute import SimpleImputer\n",
    "from sklearn.metrics import roc_auc_score\n",
    "from sklearn.ensemble import RandomForestClassifier"
   ]
  },
  {
   "cell_type": "code",
   "execution_count": 2,
   "metadata": {},
   "outputs": [
    {
     "data": {
      "image/png": "[encoded data removed]",
      "text/plain": [
       "<Figure size 432x288 with 1 Axes>"
      ]
     },
     "metadata": {
      "needs_background": "light"
     },
     "output_type": "display_data"
    }
   ],
   "source": [
    "train_transaction = pd.read_csv('train_transaction.csv')\n",
    "train_identity = pd.read_csv('train_identity.csv')\n",
    "x=train_transaction['isFraud'].value_counts().values\n",
    "sns.barplot([0,1],x)\n",
    "plt.title('Target variable count')\n",
    "train = pd.merge(train_transaction, train_identity, on='TransactionID', how='left')"
   ]
  },
  {
   "cell_type": "code",
   "execution_count": 3,
   "metadata": {},
   "outputs": [
    {
     "name": "stdout",
     "output_type": "stream",
     "text": [
      "Memory usage of dataframe is 1959.88 MB\n",
      "Memory usage after optimization is: 530.08 MB\n",
      "Decreased by 73.0%\n"
     ]
    }
   ],
   "source": [
    "def reduce_mem_usage2(df):\n",
    "    \"\"\" iterate through all the columns of a dataframe and modify the data type\n",
    "        to reduce memory usage.        \n",
    "    \"\"\"\n",
    "    start_mem = df.memory_usage().sum() / 1024**2\n",
    "    print('Memory usage of dataframe is {:.2f} MB'.format(start_mem))\n",
    "    \n",
    "    for col in df.columns:\n",
    "        col_type = df[col].dtype\n",
    "        \n",
    "        if col_type != object:\n",
    "            c_min = df[col].min()\n",
    "            c_max = df[col].max()\n",
    "            if str(col_type)[:3] == 'int':\n",
    "                if c_min > np.iinfo(np.int8).min and c_max < np.iinfo(np.int8).max:\n",
    "                    df[col] = df[col].astype(np.int8)\n",
    "                elif c_min > np.iinfo(np.int16).min and c_max < np.iinfo(np.int16).max:\n",
    "                    df[col] = df[col].astype(np.int16)\n",
    "                elif c_min > np.iinfo(np.int32).min and c_max < np.iinfo(np.int32).max:\n",
    "                    df[col] = df[col].astype(np.int32)\n",
    "                elif c_min > np.iinfo(np.int64).min and c_max < np.iinfo(np.int64).max:\n",
    "                    df[col] = df[col].astype(np.int64)  \n",
    "            else:\n",
    "                if c_min > np.finfo(np.float16).min and c_max < np.finfo(np.float16).max:\n",
    "                    df[col] = df[col].astype(np.float16)\n",
    "                elif c_min > np.finfo(np.float32).min and c_max < np.finfo(np.float32).max:\n",
    "                    df[col] = df[col].astype(np.float32)\n",
    "                else:\n",
    "                    df[col] = df[col].astype(np.float64)\n",
    "        else:\n",
    "            df[col] = df[col].astype('category')\n",
    "\n",
    "    end_mem = df.memory_usage().sum() / 1024**2\n",
    "    print('Memory usage after optimization is: {:.2f} MB'.format(end_mem))\n",
    "    print('Decreased by {:.1f}%'.format(100 * (start_mem - end_mem) / start_mem))\n",
    "    \n",
    "    return df\n",
    "\n",
    "\n",
    "train = reduce_mem_usage2(train)"
   ]
  },
  {
   "cell_type": "code",
   "execution_count": 3,
   "metadata": {},
   "outputs": [],
   "source": [
    "x=train.drop('isFraud',axis=1)\n",
    "y=np.ravel(train['isFraud'])\n"
   ]
  },
  {
   "cell_type": "markdown",
   "metadata": {},
   "source": [
    "Drop the columns with null or NAN valuse over 90%"
   ]
  },
  {
   "cell_type": "code",
   "execution_count": 4,
   "metadata": {},
   "outputs": [
    {
     "name": "stdout",
     "output_type": "stream",
     "text": [
      "There are 0 columns in train dataset with one unique value.\n",
      "['V116', 'V296', 'V120', 'V125', 'V319', 'D7', 'V107', 'V119', 'V105', 'V117', 'V121', 'V290', 'V297', 'id_07', 'V318', 'id_23', 'V136', 'V134', 'V103', 'V98', 'id_08', 'V309', 'V295', 'V321', 'id_21', 'V284', 'id_22', 'V118', 'V298', 'V132', 'V281', 'id_25', 'V109', 'V115', 'V305', 'V111', 'V293', 'id_26', 'dist2', 'V104', 'id_18', 'V123', 'V102', 'V133', 'V301', 'V137', 'id_27', 'V108', 'C3', 'V113', 'V122', 'V106', 'V124', 'V311', 'V316', 'id_24', 'V110', 'V112', 'V299', 'V129', 'V135', 'V300', 'V320', 'V114', 'V101', 'V286']\n",
      "66\n"
     ]
    }
   ],
   "source": [
    "\n",
    "one_value_cols = [col for col in x.columns if x[col].nunique() <= 1]\n",
    "print(f'There are {len(one_value_cols)} columns in train dataset with one unique value.')\n",
    "many_null_cols = [col for col in x.columns if x[col].isnull().sum() / x.shape[0] > 0.9]\n",
    "big_top_value_cols = [col for col in x.columns if x[col].value_counts(dropna=False, normalize=True).values[0] > 0.9]\n",
    "cols_drop = list(set(many_null_cols + big_top_value_cols))\n",
    "print(cols_drop)\n",
    "print(len(cols_drop))\n",
    "\n",
    "x=x.drop(cols_drop,axis=1)\n"
   ]
  },
  {
   "cell_type": "code",
   "execution_count": 5,
   "metadata": {},
   "outputs": [],
   "source": [
    "cat_cols = ['ProductCD', 'card1','card2','card3','card4','card5','card6','addr1','addr2','P_emaildomain','R_emaildomain','M1','M2','M3','M4','M5','M6','M7','M8','M9','id_12','id_13','id_14','id_15','id_16','id_17','id_19','id_20','id_28','id_29','id_30','id_31','id_32','id_33','id_34','id_35','id_36','id_37','id_38','DeviceType','DeviceInfo']\n",
    "for col in cat_cols:\n",
    "    if col in x.columns:\n",
    "        le = LabelEncoder()\n",
    "        le.fit(list(x[col].astype(str).values))\n",
    "        x[col] = le.transform(list(x[col].astype(str).values))"
   ]
  },
  {
   "cell_type": "code",
   "execution_count": 6,
   "metadata": {},
   "outputs": [],
   "source": [
    "features = np.ravel(x.columns)\n",
    "num_cols=np.setdiff1d(features,cat_cols)\n",
    "SS=StandardScaler()\n",
    "x[num_cols]=SS.fit_transform(x[num_cols])"
   ]
  },
  {
   "cell_type": "code",
   "execution_count": 7,
   "metadata": {},
   "outputs": [],
   "source": [
    "def clean_inf_nan(df):\n",
    "    return df.replace([np.inf, -np.inf], np.nan)   \n",
    "\n",
    "# Cleaning infinite values to NaN\n",
    "x = clean_inf_nan(x)"
   ]
  },
  {
   "cell_type": "code",
   "execution_count": 8,
   "metadata": {},
   "outputs": [],
   "source": [
    "from sklearn.impute import SimpleImputer\n",
    "imp=SimpleImputer()\n",
    "imputed_x=imp.fit_transform(x)\n",
    "x_new=pd.DataFrame(imputed_x)\n",
    "x_new.columns=x.columns"
   ]
  },
  {
   "cell_type": "markdown",
   "metadata": {},
   "source": [
    "Ranking of features"
   ]
  },
  {
   "cell_type": "code",
   "execution_count": 11,
   "metadata": {},
   "outputs": [],
   "source": [
    "#only use the first 47 features\n",
    "cols_for_model=['V258','C1','card1','card2','addr1','TransactionID','TransactionDT','TransactionAmt','C14','C13','id_31','id_20','id_19','id_05','id_02','id_01','dist1','card6','card5','card3','V87','V62','V45','V317','V315','V313','V310','V307','V283','V189','V156','P_emaildomain','DeviceInfo','D8','D5','D4','D2','D15','D11','D10','D1','C9','C8','C6','C2','C12','C11']\n",
    "x_n=x_new[cols_for_model]\n",
    "#lr\n",
    "X_train1, X_test1, y_train1, y_test1 = train_test_split(x_n,y, test_size=0.2, random_state=42)\n",
    "X_train2, X_val2, y_train2, y_val2 = train_test_split(X_train1,y_train1, test_size=0.2, random_state=42)\n",
    "#lr=LogisticRegression()\n",
    "#lr.fit(X_train2,y_train2)\n",
    "#y_pred0=lr.predict(X_val2)\n",
    "#print(roc_auc_score(y_val2,y_pred0))"
   ]
  },
  {
   "cell_type": "markdown",
   "metadata": {},
   "source": [
    "PCA"
   ]
  },
  {
   "cell_type": "code",
   "execution_count": 11,
   "metadata": {},
   "outputs": [],
   "source": [
    "from sklearn import decomposition\n",
    "pca = decomposition.PCA(n_components = 10)\n",
    "data_all=pd.concat([x_n,pd.DataFrame(y)],axis=1)"
   ]
  },
  {
   "cell_type": "code",
   "execution_count": 12,
   "metadata": {},
   "outputs": [],
   "source": [
    "pca.fit(x_n)\n",
    "x_transformed = pca.transform(x_n)\n",
    "x_transformed_df = pd.DataFrame(x_transformed)"
   ]
  },
  {
   "cell_type": "markdown",
   "metadata": {},
   "source": [
    "pca_RF LR KNN"
   ]
  },
  {
   "cell_type": "code",
   "execution_count": 13,
   "metadata": {},
   "outputs": [],
   "source": [
    "X_train_pca1, X_test_pca, y_train_pca1, y_test_pca = train_test_split(x_transformed,y, test_size=0.2, random_state=42)\n",
    "X_train_pca, X_val_pca, y_train_pca, y_val_pca = train_test_split(X_train_pca1,y_train_pca1, test_size=0.2, random_state=42)"
   ]
  },
  {
   "cell_type": "code",
   "execution_count": 40,
   "metadata": {},
   "outputs": [
    {
     "name": "stdout",
     "output_type": "stream",
     "text": [
      "0.7526857408576785\n"
     ]
    },
    {
     "name": "stderr",
     "output_type": "stream",
     "text": [
      "D:\\anaconda\\lib\\site-packages\\sklearn\\linear_model\\_logistic.py:940: ConvergenceWarning: lbfgs failed to converge (status=1):\n",
      "STOP: TOTAL NO. of ITERATIONS REACHED LIMIT.\n",
      "\n",
      "Increase the number of iterations (max_iter) or scale the data as shown in:\n",
      "    https://scikit-learn.org/stable/modules/preprocessing.html\n",
      "Please also refer to the documentation for alternative solver options:\n",
      "    https://scikit-learn.org/stable/modules/linear_model.html#logistic-regression\n",
      "  extra_warning_msg=_LOGISTIC_SOLVER_CONVERGENCE_MSG)\n"
     ]
    },
    {
     "name": "stdout",
     "output_type": "stream",
     "text": [
      "0.5486212277649013\n",
      "0.7106698407505152\n"
     ]
    }
   ],
   "source": [
    "rf1=RandomForestClassifier(random_state=42)\n",
    "rf1.fit(X_train_pca,y_train_pca)\n",
    "y_pred1=rf1.predict(X_val_pca)\n",
    "print(roc_auc_score(y_val_pca,y_pred1))\n",
    "\n",
    "lr1=LogisticRegression()\n",
    "lr1.fit(X_train_pca,y_train_pca)\n",
    "y_pred2=lr1.predict(X_val_pca)\n",
    "print(roc_auc_score(y_val_pca,y_pred2))\n",
    "\n",
    "from sklearn.neighbors import KNeighborsClassifier\n",
    "md1 = KNeighborsClassifier(n_neighbors = 2)\n",
    "md1.fit(X_train_pca,y_train_pca)\n",
    "y_pred3=md1.predict(X_val_pca)\n",
    "print(roc_auc_score(y_val_pca,y_pred3))"
   ]
  },
  {
   "cell_type": "markdown",
   "metadata": {},
   "source": [
    "Up-sampling"
   ]
  },
  {
   "cell_type": "code",
   "execution_count": 41,
   "metadata": {},
   "outputs": [
    {
     "name": "stdout",
     "output_type": "stream",
     "text": [
      "0.7796493154556405\n"
     ]
    },
    {
     "name": "stderr",
     "output_type": "stream",
     "text": [
      "D:\\anaconda\\lib\\site-packages\\sklearn\\linear_model\\_logistic.py:940: ConvergenceWarning: lbfgs failed to converge (status=1):\n",
      "STOP: TOTAL NO. of ITERATIONS REACHED LIMIT.\n",
      "\n",
      "Increase the number of iterations (max_iter) or scale the data as shown in:\n",
      "    https://scikit-learn.org/stable/modules/preprocessing.html\n",
      "Please also refer to the documentation for alternative solver options:\n",
      "    https://scikit-learn.org/stable/modules/linear_model.html#logistic-regression\n",
      "  extra_warning_msg=_LOGISTIC_SOLVER_CONVERGENCE_MSG)\n"
     ]
    },
    {
     "name": "stdout",
     "output_type": "stream",
     "text": [
      "0.6600975559419774\n",
      "0.7997233545918383\n"
     ]
    }
   ],
   "source": [
    "y_train_up=pd.DataFrame(y_train_pca)\n",
    "y_train_up.columns=['isFraud']\n",
    "X_train_up=pd.DataFrame(X_train_pca)\n",
    "data_all=pd.concat([X_train_up,y_train_up],axis=1)\n",
    "not_fraud=data_all[data_all.isFraud==0]\n",
    "fraud=data_all[data_all.isFraud==1]\n",
    "\n",
    "fraud_upsampled=resample(fraud,replace=True,n_samples=len(not_fraud),random_state=27)\n",
    "new_data=pd.concat([not_fraud,fraud_upsampled])\n",
    "new_data.isFraud.value_counts()\n",
    "x_train_1=new_data.drop('isFraud',axis=1)\n",
    "y_train_1=np.ravel(new_data['isFraud'])\n",
    "rf2=RandomForestClassifier(random_state=0)\n",
    "\n",
    "#x_train_1=imp.fit_transform(x_train_1)\n",
    "#x_train_1_df=pd.DataFrame(x_train_1)\n",
    "\n",
    "rf2.fit(x_train_1,y_train_1)\n",
    "y_pred4=rf2.predict(X_val_pca)\n",
    "print(roc_auc_score(y_val_pca,y_pred4))\n",
    "\n",
    "\n",
    "#knn lr\n",
    "lr2=LogisticRegression()\n",
    "lr2.fit(x_train_1,y_train_1)\n",
    "y_pred5=lr2.predict(X_val_pca)\n",
    "print(roc_auc_score(y_val_pca,y_pred5))\n",
    "\n",
    "md2 = KNeighborsClassifier(n_neighbors = 2)\n",
    "md2.fit(x_train_1,y_train_1)\n",
    "y_pred6=md2.predict(X_val_pca)\n",
    "print(roc_auc_score(y_val_pca,y_pred6))\n"
   ]
  },
  {
   "cell_type": "markdown",
   "metadata": {},
   "source": [
    "Down-sampling"
   ]
  },
  {
   "cell_type": "code",
   "execution_count": 19,
   "metadata": {},
   "outputs": [
    {
     "data": {
      "text/plain": [
       "1    13028\n",
       "0    13028\n",
       "Name: isFraud, dtype: int64"
      ]
     },
     "execution_count": 19,
     "metadata": {},
     "output_type": "execute_result"
    }
   ],
   "source": [
    "not_fraud_downsampled = resample(not_fraud,\n",
    "                                replace = False, # sample without replacement\n",
    "                                n_samples = len(fraud), # match minority n\n",
    "                                random_state = 27)\n",
    "new_data1=pd.concat([not_fraud_downsampled,fraud])\n",
    "new_data1.isFraud.value_counts()"
   ]
  },
  {
   "cell_type": "code",
   "execution_count": 20,
   "metadata": {},
   "outputs": [
    {
     "name": "stdout",
     "output_type": "stream",
     "text": [
      "0.8107172158896296\n",
      "0.6550595359595612\n",
      "0.7659833359012608\n"
     ]
    }
   ],
   "source": [
    "x_train_2=new_data1.drop('isFraud',axis=1)\n",
    "y_train_2=np.ravel(new_data1['isFraud'])\n",
    "#x_train_2=imp.fit_transform(x_train_2)\n",
    "#x_train_2_df=pd.DataFrame(x_train_2)\n",
    "\n",
    "rf3=RandomForestClassifier(random_state=0)\n",
    "rf3.fit(x_train_2,y_train_2)\n",
    "y_pred7=rf3.predict(X_val_pca)\n",
    "print(roc_auc_score(y_val_pca,y_pred7))\n",
    "\n",
    "#knn lr\n",
    "lr3=LogisticRegression()\n",
    "lr3.fit(x_train_2,y_train_2)\n",
    "y_pred8=lr3.predict(X_val_pca)\n",
    "print(roc_auc_score(y_val_pca,y_pred8))\n",
    "\n",
    "md3 = KNeighborsClassifier(n_neighbors = 2)\n",
    "md3.fit(x_train_2,y_train_2)\n",
    "y_pred9=md3.predict(X_val_pca)\n",
    "print(roc_auc_score(y_val_pca,y_pred9))"
   ]
  },
  {
   "cell_type": "markdown",
   "metadata": {},
   "source": [
    "SMOTE"
   ]
  },
  {
   "cell_type": "code",
   "execution_count": 22,
   "metadata": {},
   "outputs": [
    {
     "name": "stdout",
     "output_type": "stream",
     "text": [
      "length of oversampled data is  729834\n",
      "Number of no subscription in oversampled data 364917\n",
      "0.8045197655060677\n",
      "0.651792581916675\n",
      "0.7750699036309278\n"
     ]
    }
   ],
   "source": [
    "from imblearn.over_sampling import SMOTE\n",
    "smote=SMOTE(random_state=42)\n",
    "x_sm1,y_sm1 = smote.fit_sample(X_train_up,np.ravel(y_train_up))\n",
    "print(\"length of oversampled data is \",len(x_sm1))\n",
    "print(\"Number of no subscription in oversampled data\",len(y_sm1[y_sm1==0]))\n",
    "\n",
    "#RFC\n",
    "rf4=RandomForestClassifier(random_state=0)\n",
    "rf4.fit(x_sm1,y_sm1)\n",
    "y_pred10=rf4.predict(X_val_pca)\n",
    "print(roc_auc_score(y_val_pca,y_pred10))\n",
    "\n",
    "#LR KNN\n",
    "lr4=LogisticRegression()\n",
    "lr4.fit(x_sm1,y_sm1)\n",
    "y_pred11=lr4.predict(X_val_pca)\n",
    "print(roc_auc_score(y_val_pca,y_pred11))\n",
    "\n",
    "md4 = KNeighborsClassifier(n_neighbors = 2)\n",
    "md4.fit(x_sm1,y_sm1)\n",
    "y_pred12=md4.predict(X_val_pca)\n",
    "print(roc_auc_score(y_val_pca,y_pred12))"
   ]
  },
  {
   "cell_type": "code",
   "execution_count": 9,
   "metadata": {},
   "outputs": [],
   "source": [
    "import xgboost as xgb\n",
    "from xgboost import XGBClassifier"
   ]
  },
  {
   "cell_type": "code",
   "execution_count": 54,
   "metadata": {},
   "outputs": [],
   "source": [
    "alg =XGBClassifier(learning_rate=0.1, n_estimators=140, max_depth=5,\n",
    "                        min_child_weight=3, gamma=0.2, subsample=0.6, colsample_bytree=1.0,\n",
    "                        objective='binary:logistic', nthread=4, scale_pos_weight=10, seed=27)\n",
    "\n"
   ]
  },
  {
   "cell_type": "code",
   "execution_count": 55,
   "metadata": {},
   "outputs": [
    {
     "name": "stdout",
     "output_type": "stream",
     "text": [
      "Start Feeding Data\n",
      "Start Training\n"
     ]
    },
    {
     "name": "stderr",
     "output_type": "stream",
     "text": [
      "D:\\anaconda\\lib\\site-packages\\sklearn\\preprocessing\\_label.py:235: DataConversionWarning: A column-vector y was passed when a 1d array was expected. Please change the shape of y to (n_samples, ), for example using ravel().\n",
      "  y = column_or_1d(y, warn=True)\n",
      "D:\\anaconda\\lib\\site-packages\\sklearn\\preprocessing\\_label.py:268: DataConversionWarning: A column-vector y was passed when a 1d array was expected. Please change the shape of y to (n_samples, ), for example using ravel().\n",
      "  y = column_or_1d(y, warn=True)\n"
     ]
    },
    {
     "name": "stdout",
     "output_type": "stream",
     "text": [
      "Start Predicting\n",
      "AUC of validation dataset: 0.917093\n"
     ]
    }
   ],
   "source": [
    "cv_folds=5\n",
    "early_stopping_rounds=50\n",
    "print(\"Start Feeding Data\")\n",
    "xgb_param = alg.get_xgb_params()\n",
    "xgtrain = xgb.DMatrix(X_train2.values, label=(pd.DataFrame(y_train2)).values)\n",
    "cvresult = xgb.cv(xgb_param, xgtrain, num_boost_round=alg.get_params()['n_estimators'], nfold=cv_folds,\n",
    "                  early_stopping_rounds=early_stopping_rounds)\n",
    "alg.set_params(n_estimators=cvresult.shape[0])\n",
    "\n",
    "    \n",
    "print('Start Training')\n",
    "alg.fit(X_train2, (pd.DataFrame(y_train2)), eval_metric='auc')\n",
    "\n",
    "    \n",
    "print(\"Start Predicting\")\n",
    "predictions = alg.predict(X_val2)\n",
    "pred_proba = alg.predict_proba(X_val2)[:, 1]\n",
    "print(\"AUC of validation dataset: %f\" % roc_auc_score((pd.DataFrame(y_val2)), pred_proba))\n",
    "\n"
   ]
  },
  {
   "cell_type": "code",
   "execution_count": 56,
   "metadata": {},
   "outputs": [
    {
     "name": "stdout",
     "output_type": "stream",
     "text": [
      "AUC of test dataset:\n",
      "0.91879422020605\n"
     ]
    }
   ],
   "source": [
    "y_pred0=alg.predict(X_test1)\n",
    "pred0_proba = alg.predict_proba(X_test1)[:, 1]\n",
    "print(\"AUC of test dataset:\")\n",
    "print( roc_auc_score(pd.DataFrame(y_test1), pred0_proba))"
   ]
  },
  {
   "cell_type": "code",
   "execution_count": null,
   "metadata": {},
   "outputs": [],
   "source": []
  },
  {
   "cell_type": "markdown",
   "metadata": {},
   "source": [
    "XGboost"
   ]
  },
  {
   "cell_type": "code",
   "execution_count": 28,
   "metadata": {},
   "outputs": [],
   "source": [
    "#test\n",
    "\n",
    "def xgb_classifier(X_train, X_test, y_train, y_test, useTrainCV=True, cv_folds=5, early_stopping_rounds=50):\n",
    "    \n",
    "    X_train2, X_val2, y_train2, y_val2 = train_test_split(X_train,y_train, test_size=0.2, random_state=42)\n",
    "    \n",
    "    alg = XGBClassifier(learning_rate=0.1, n_estimators=140, max_depth=5,\n",
    "                        min_child_weight=3, gamma=0.2, subsample=0.6, colsample_bytree=1.0,\n",
    "                        objective='binary:logistic', nthread=4, scale_pos_weight=1, seed=27)\n",
    "\n",
    "    if useTrainCV:\n",
    "        print(\"Start Feeding Data\")\n",
    "        xgb_param = alg.get_xgb_params()\n",
    "        xgtrain = xgb.DMatrix(X_train2.values, label=y_train2.values)\n",
    "        cvresult = xgb.cv(xgb_param, xgtrain, num_boost_round=alg.get_params()['n_estimators'], nfold=cv_folds,\n",
    "                          early_stopping_rounds=early_stopping_rounds)\n",
    "        alg.set_params(n_estimators=cvresult.shape[0])\n",
    "\n",
    "    \n",
    "    print('Start Training')\n",
    "    alg.fit(X_train2, y_train2, eval_metric='auc')\n",
    "\n",
    "    \n",
    "    print(\"Start Predicting\")\n",
    "    predictions = alg.predict(X_val2)\n",
    "    pred_proba = alg.predict_proba(X_val2)[:, 1]\n",
    "\n",
    "    \n",
    "   \n",
    "    print(\"AUC of validation dataset: %f\" % roc_auc_score(y_val2, pred_proba))\n",
    "    y_pred0=alg.predict(X_test)\n",
    "    pred0_proba = alg.predict_proba(X_test)[:, 1]\n",
    "    print(\"AUC of test dataset:\")\n",
    "    print( roc_auc_score(y_test, pred0_proba))\n",
    "\n",
    "    feat_imp = alg.feature_importances_\n",
    "    feat = X_train.columns.tolist()\n",
    "    \n",
    "    res_df = pd.DataFrame({'Features': feat, 'Importance': feat_imp}).sort_values(by='Importance', ascending=False)\n",
    "    res_df.plot('Features', 'Importance', kind='bar', title='Feature Importances')\n",
    "    plt.ylabel('Feature Importance Score')\n",
    "    plt.savefig('xgb.pdf', bbox_inches='tight')\n",
    "    plt.show()\n",
    "    print(res_df)\n",
    "    print(res_df[\"Features\"].tolist())\n"
   ]
  },
  {
   "cell_type": "code",
   "execution_count": null,
   "metadata": {},
   "outputs": [],
   "source": []
  },
  {
   "cell_type": "code",
   "execution_count": 29,
   "metadata": {},
   "outputs": [
    {
     "name": "stdout",
     "output_type": "stream",
     "text": [
      "Start Feeding Data\n",
      "Start Training\n"
     ]
    },
    {
     "name": "stderr",
     "output_type": "stream",
     "text": [
      "D:\\anaconda\\lib\\site-packages\\sklearn\\preprocessing\\_label.py:235: DataConversionWarning: A column-vector y was passed when a 1d array was expected. Please change the shape of y to (n_samples, ), for example using ravel().\n",
      "  y = column_or_1d(y, warn=True)\n",
      "D:\\anaconda\\lib\\site-packages\\sklearn\\preprocessing\\_label.py:268: DataConversionWarning: A column-vector y was passed when a 1d array was expected. Please change the shape of y to (n_samples, ), for example using ravel().\n",
      "  y = column_or_1d(y, warn=True)\n"
     ]
    },
    {
     "name": "stdout",
     "output_type": "stream",
     "text": [
      "Start Predicting\n",
      "AUC of validation dataset: 0.910413\n",
      "AUC of test dataset:\n",
      "0.9128949944496245\n"
     ]
    },
    {
     "data": {
      "image/png": "[encoded data removed]",
      "text/plain": [
       "<Figure size 432x288 with 1 Axes>"
      ]
     },
     "metadata": {
      "needs_background": "light"
     },
     "output_type": "display_data"
    },
    {
     "name": "stdout",
     "output_type": "stream",
     "text": [
      "          Features  Importance\n",
      "0             V258    0.212779\n",
      "23            V317    0.052126\n",
      "29            V189    0.050291\n",
      "8              C14    0.038147\n",
      "17           card6    0.037142\n",
      "1               C1    0.036544\n",
      "42              C8    0.035713\n",
      "22             V45    0.030495\n",
      "28            V283    0.028614\n",
      "45             C12    0.028352\n",
      "36              D2    0.023097\n",
      "9              C13    0.023016\n",
      "30            V156    0.022862\n",
      "19           card3    0.019318\n",
      "46             C11    0.016621\n",
      "27            V307    0.016463\n",
      "21             V62    0.015999\n",
      "24            V315    0.015645\n",
      "15           id_01    0.015051\n",
      "41              C9    0.014525\n",
      "40              D1    0.012625\n",
      "43              C6    0.012607\n",
      "4            addr1    0.012594\n",
      "34              D5    0.012327\n",
      "39             D10    0.012190\n",
      "16           dist1    0.011996\n",
      "7   TransactionAmt    0.011639\n",
      "25            V313    0.011346\n",
      "3            card2    0.011299\n",
      "20             V87    0.010891\n",
      "31   P_emaildomain    0.010748\n",
      "37             D15    0.010745\n",
      "33              D8    0.010728\n",
      "38             D11    0.010619\n",
      "2            card1    0.010095\n",
      "18           card5    0.009996\n",
      "10           id_31    0.009592\n",
      "44              C2    0.009517\n",
      "13           id_05    0.009434\n",
      "5    TransactionID    0.009035\n",
      "26            V310    0.008758\n",
      "11           id_20    0.008370\n",
      "35              D4    0.007859\n",
      "12           id_19    0.007854\n",
      "32      DeviceInfo    0.007652\n",
      "14           id_02    0.006686\n",
      "6    TransactionDT    0.000000\n",
      "['V258', 'V317', 'V189', 'C14', 'card6', 'C1', 'C8', 'V45', 'V283', 'C12', 'D2', 'C13', 'V156', 'card3', 'C11', 'V307', 'V62', 'V315', 'id_01', 'C9', 'D1', 'C6', 'addr1', 'D5', 'D10', 'dist1', 'TransactionAmt', 'V313', 'card2', 'V87', 'P_emaildomain', 'D15', 'D8', 'D11', 'card1', 'card5', 'id_31', 'C2', 'id_05', 'TransactionID', 'V310', 'id_20', 'D4', 'id_19', 'DeviceInfo', 'id_02', 'TransactionDT']\n"
     ]
    }
   ],
   "source": [
    "xgb_classifier(X_train1, X_test1, pd.DataFrame(y_train1), pd.DataFrame(y_test1))\n"
   ]
  },
  {
   "cell_type": "code",
   "execution_count": null,
   "metadata": {},
   "outputs": [],
   "source": []
  },
  {
   "cell_type": "code",
   "execution_count": null,
   "metadata": {},
   "outputs": [],
   "source": []
  },
  {
   "cell_type": "code",
   "execution_count": null,
   "metadata": {},
   "outputs": [],
   "source": []
  }
 ],
 "metadata": {
  "kernelspec": {
   "display_name": "Python 3",
   "language": "python",
   "name": "python3"
  },
  "language_info": {
   "codemirror_mode": {
    "name": "ipython",
    "version": 3
   },
   "file_extension": ".py",
   "mimetype": "text/x-python",
   "name": "python",
   "nbconvert_exporter": "python",
   "pygments_lexer": "ipython3",
   "version": "3.7.6"
  }
 },
 "nbformat": 4,
 "nbformat_minor": 4
}
